{
 "cells": [
  {
   "cell_type": "code",
   "execution_count": 1,
   "id": "03a52904",
   "metadata": {},
   "outputs": [],
   "source": [
    "import numpy as np\n",
    "import pandas as pd\n",
    "import matplotlib.pyplot as plt\n",
    "\n",
    "triads = [['BPS'+str(i),'BPS'+str(i+20),'BPS'+str(i+40)] for i in range(1,21)]\n",
    "pd.options.display.max_columns= 79"
   ]
  },
  {
   "cell_type": "code",
   "execution_count": 2,
   "id": "6fd0c91c",
   "metadata": {},
   "outputs": [],
   "source": [
    "#import datafile\n",
    "\n",
    "df = pd.read_csv('new_test/20TH jUNE 24HOUR DATA.csv')"
   ]
  },
  {
   "cell_type": "code",
   "execution_count": 3,
   "id": "516eab40",
   "metadata": {},
   "outputs": [
    {
     "name": "stdout",
     "output_type": "stream",
     "text": [
      "[[17973, 'HF_LEFT'], [43952, 'HF_LEFT']]\n"
     ]
    }
   ],
   "source": [
    "#define algos and parameters\n",
    "\n",
    "def check_hf_flag(y1, y2, lag_w, lag_cs, lag_sd):\n",
    "   \n",
    "    #initialize arrays for signals(peaks/dips), filtered output(smoothened), avgfilter(mean), stdfilter(std dev)\n",
    "    signals = np.zeros(len(y1))\n",
    "    pos= np.zeros(len(y1))  # 10 for right, 300 for left, arbritrary\n",
    "    \n",
    "    filtered_y1 = np.array(y1)\n",
    "    filtered_y2 = np.array(y2)\n",
    "    \n",
    "    avgFilter_y1 = [0]*len(y1)\n",
    "    avgFilter_y2 = [0]*len(y2)\n",
    "    \n",
    "    stdFilter_y1 = [0]*len(y1)\n",
    "    stdFilter_y2 = [0]*len(y2)\n",
    "    \n",
    "    \n",
    "    #calculate mean of moving window\n",
    "    avgFilter_y1[lag_time - 1] = np.mean(y1[lag_time-lag_w:lag_time])\n",
    "    avgFilter_y2[lag_time - 1] = np.mean(y2[lag_time-lag_w:lag_time])\n",
    "    \n",
    "    stdFilter_y1[lag_time - 1] = np.std(y1[lag_time- lag_sd:lag_time])\n",
    "    stdFilter_y2[lag_time - 1] = np.std(y2[lag_time- lag_sd:lag_time])\n",
    "    \n",
    "    \n",
    "    \n",
    "    #run the moving window over input signal. Skips first n points. (n=lag)\n",
    "    for i in range(lag_w, len(y1)):\n",
    "        \n",
    "        \n",
    "        if i > (lag_time + 1):\n",
    "            \n",
    "            cs_max= df['CAST_SPEED_ACT'][i-lag_cs:i-1].max()\n",
    "            cs_min= df['CAST_SPEED_ACT'][i-lag_cs:i-1].min()\n",
    "            cs_act=df['CAST_SPEED_ACT'].iloc[i]\n",
    "            \n",
    "            # casting speed minimum change condition check\n",
    "            \n",
    "            if cs_act >= 4.5:\n",
    "            \n",
    "                if ((abs(cs_act-cs_min)<=0.1) and (abs(cs_max-cs_act)<=0.1)):\n",
    "\n",
    "                    right_status = ((avgFilter_y1[i-1] - stdFilter_y1[i-1]) -  df['HF_RIGHT'][i]) \n",
    "                    left_status = ((avgFilter_y2[i-1] - stdFilter_y2[i-1]) -  df['HF_LEFT'][i])\n",
    "\n",
    "                    if (right_status > 0.15 and left_status <= 0.15) or (left_status > 0.15 and right_status <= 0.15):\n",
    "\n",
    "                        #check if signals not in last 5 mins\n",
    "                            if -1 not in signals[i-lag_time:i]:\n",
    "\n",
    "                                signals[i] = -1\n",
    "\n",
    "                                if (right_status > 0.15 and left_status <= 0.15):\n",
    "                                    pos[i]=10 # hf_right\n",
    "                                else:\n",
    "                                    pos[i]=300 #hf_left\n",
    "                \n",
    "                        \n",
    "            #output filtered signal with smoothened peak/dip\n",
    "            filtered_y1[i] = y1[i]\n",
    "            filtered_y2[i] = y2[i]\n",
    "            \n",
    "            #calculate mean for next step of moving window\n",
    "            avgFilter_y1[i] = np.mean(filtered_y1[(i-lag_w+1):i+1])\n",
    "            avgFilter_y2[i] = np.mean(filtered_y2[(i-lag_w+1):i+1])\n",
    "            \n",
    "            stdFilter_y1[i] =  np.std(filtered_y1[(i-lag_sd+1):i+1])\n",
    "            stdFilter_y2[i] =  np.std(filtered_y2[(i-lag_sd+1):i+1])\n",
    "            \n",
    "           \n",
    "        else:\n",
    "            signals[i] = 0\n",
    "            filtered_y1[i] = y1[i]\n",
    "            filtered_y2[i] = y2[i]\n",
    "            avgFilter_y1[i] = np.mean(filtered_y1[(i-lag_w+1):i+1])\n",
    "            avgFilter_y2[i] = np.mean(filtered_y2[(i-lag_w+1):i+1])\n",
    "            stdFilter_y1[i] =  np.std(filtered_y1[(i-lag_sd+1):i+1])\n",
    "            stdFilter_y2[i] =  np.std(filtered_y2[(i-lag_sd+1):i+1])\n",
    "            \n",
    "\n",
    "    return dict(signals = np.asarray(signals), pos= np.asarray(pos),\n",
    "                avgFilter_y1 = np.asarray(avgFilter_y1), stdFilter_y1=np.asarray(stdFilter_y1), avgFilter_y2 = np.asarray(avgFilter_y2), stdFilter_y2=np.asarray(stdFilter_y2) )\n",
    "\n",
    "\n",
    "'''\n",
    "moving window over 30 data points,\n",
    "signals peaks/valleys if data point exceeds 3.5 std. deviation of moving mean\n",
    "signals get 0.2 value of regular points for calculating moving mean\n",
    "'''\n",
    "\n",
    "lag_w = 45 ## 90 sec for average\n",
    "lag_cs= 65 # 130 sec\n",
    "lag_sd = 5 # 10 sec for std dev\n",
    "lag_time =150 # for 5 min\n",
    "\n",
    "\n",
    "\n",
    "y1= df['HF_RIGHT'].to_numpy()\n",
    "y2= df['HF_LEFT'].to_numpy()\n",
    "\n",
    "result1 = check_hf_flag(y1,y2, lag_w=lag_w, lag_cs= lag_cs, lag_sd=lag_sd)\n",
    "\n",
    "#store dips of each thermocouple\n",
    "locations1=[]\n",
    "for i in range(len(result1['signals'])):\n",
    "    if result1['signals'][i] == -1.0:\n",
    "        if result1['pos'][i] == 10:\n",
    "            locations1.append([i,'HF_RIGHT'])\n",
    "        else:\n",
    "            locations1.append([i,'HF_LEFT'])\n",
    "            \n",
    "\n",
    "result_set= locations1\n",
    "\n",
    "\n",
    "print(str(result_set))"
   ]
  },
  {
   "cell_type": "code",
   "execution_count": 4,
   "id": "72962461",
   "metadata": {
    "scrolled": true
   },
   "outputs": [
    {
     "name": "stdout",
     "output_type": "stream",
     "text": [
      "----------------------------------------------------------------------------------------------------\n",
      "                                   Dips through Z-Score\n",
      "----------------------------------------------------------------------------------------------------\n"
     ]
    },
    {
     "data": {
      "text/html": [
       "<div>\n",
       "<style scoped>\n",
       "    .dataframe tbody tr th:only-of-type {\n",
       "        vertical-align: middle;\n",
       "    }\n",
       "\n",
       "    .dataframe tbody tr th {\n",
       "        vertical-align: top;\n",
       "    }\n",
       "\n",
       "    .dataframe thead th {\n",
       "        text-align: right;\n",
       "    }\n",
       "</style>\n",
       "<table border=\"1\" class=\"dataframe\">\n",
       "  <thead>\n",
       "    <tr style=\"text-align: right;\">\n",
       "      <th></th>\n",
       "      <th>Index</th>\n",
       "      <th>Time</th>\n",
       "      <th>Met_length</th>\n",
       "      <th>Algo</th>\n",
       "      <th>Heat_Flux</th>\n",
       "      <th>HF_Value</th>\n",
       "    </tr>\n",
       "  </thead>\n",
       "  <tbody>\n",
       "    <tr>\n",
       "      <th>0</th>\n",
       "      <td>17973</td>\n",
       "      <td>20-06-22 02:49:06</td>\n",
       "      <td>6488.187</td>\n",
       "      <td>BO_Algo New</td>\n",
       "      <td>HF_LEFT</td>\n",
       "      <td>1.995</td>\n",
       "    </tr>\n",
       "    <tr>\n",
       "      <th>1</th>\n",
       "      <td>43952</td>\n",
       "      <td>20-06-22 17:10:13</td>\n",
       "      <td>7521.606</td>\n",
       "      <td>BO_Algo New</td>\n",
       "      <td>HF_LEFT</td>\n",
       "      <td>2.421</td>\n",
       "    </tr>\n",
       "  </tbody>\n",
       "</table>\n",
       "</div>"
      ],
      "text/plain": [
       "   Index               Time Met_length         Algo Heat_Flux  HF_Value\n",
       "0  17973  20-06-22 02:49:06   6488.187  BO_Algo New   HF_LEFT     1.995\n",
       "1  43952  20-06-22 17:10:13   7521.606  BO_Algo New   HF_LEFT     2.421"
      ]
     },
     "execution_count": 4,
     "metadata": {},
     "output_type": "execute_result"
    }
   ],
   "source": [
    "#store dip points\n",
    "\n",
    "df_val1=pd.DataFrame(columns=['Index','Time','Met_length', 'Algo', 'Heat_Flux', \"HF_Value\"])\n",
    "#df_val1=pd.DataFrame(columns=['Index','Time','Triad', 'Type', 'Algo' , 'Name'])\n",
    "counter=0\n",
    "\n",
    "for j in range(len(result_set)):\n",
    "    result=(result_set[j][0])\n",
    "    result_hf = str(result_set[j][1])\n",
    "    result_value= df.iloc[result][result_hf]\n",
    "    df_val1.loc[counter]=pd.Series({'Index':result, 'Time':df.iloc[result]['TIME_STAMP'], 'Met_length':str(df.iloc[result]['MET_LENGTH']),'Algo': 'BO_Algo New', 'Heat_Flux': result_hf,'HF_Value': result_value  })\n",
    "    #df_val1.loc[counter]=pd.Series({'Index':result, 'Time':df.iloc[result]['TIME_STAMP'], 'Triad':triads[i], 'Type':'Wide','Algo': 'Z-Score', 'Name': \" \".join(triads[i])})\n",
    "    counter=counter+1\n",
    "        \n",
    "\n",
    "c1_wide=df_val1.sort_values(by='Index', ascending=True)\n",
    "print('-'*100)\n",
    "print(' '*35+ 'Dips through Z-Score')\n",
    "print('-'*100)\n",
    "#c1_wide=c1_wide[~((c1_wide['Name'].str.contains('BPS11')) | (c1_wide['Name'].str.contains('BPS1 '))| (c1_wide['Name'].str.contains('BPS12')) | (c1_wide['Name'].str.contains('BPS2 ')) | (c1_wide['Name'].str.contains('BPS20')) | (c1_wide['Name'].str.contains('BPS10')) | (c1_wide['Name'].str.contains('BPS3 ')))]\n",
    "#c1_wide=c1_wide.drop(columns=['Name'])\n",
    "#c1_wide.loc[1]=pd.Series(c1_wide.loc[0])\n",
    "c1_wide"
   ]
  },
  {
   "cell_type": "code",
   "execution_count": null,
   "id": "3e13696c",
   "metadata": {},
   "outputs": [],
   "source": [
    "'''only run this cell if result has only single row.\n",
    "so as to duplicate the row twice.\n",
    "as plot function doesn't run on single rows but only on mupltiple rows''' \n",
    "\n",
    "#c1_wide.loc[1]=pd.Series(c1_wide.loc[0])\n",
    "#c1_wide"
   ]
  },
  {
   "cell_type": "code",
   "execution_count": 5,
   "id": "1cbf423b",
   "metadata": {},
   "outputs": [
    {
     "name": "stderr",
     "output_type": "stream",
     "text": [
      "No handles with labels found to put in legend.\n",
      "No handles with labels found to put in legend.\n"
     ]
    },
    {
     "data": {
      "image/png": "[encoded data removed]",
      "text/plain": [
       "<Figure size 432x720 with 2 Axes>"
      ]
     },
     "metadata": {},
     "output_type": "display_data"
    }
   ],
   "source": [
    "#plot function\n",
    "\n",
    "#plotting detected dips\n",
    "\n",
    "plt.style.use(\"seaborn\")\n",
    "\n",
    "fig, axs = plt.subplots(len(c1_wide), figsize=(6, 5*len(c1_wide)))\n",
    "for i in range(len(c1_wide)):\n",
    "    Title= str('Time:'+c1_wide.iloc[i]['Time'])+'     Met_Length:'+str(c1_wide.iloc[i]['Met_length'])+'     '+ str(c1_wide.iloc[i]['Heat_Flux'])+'_Value:'+ str(c1_wide.iloc[i]['HF_Value'])\n",
    "    det= int(c1_wide.iloc[i]['Index'])\n",
    "    axs[i].plot(df[c1_wide.iloc[i]['Heat_Flux']], linewidth=5, color='green', linestyle='solid')\n",
    "    axs[i].axvspan(det,det+15, facecolor='r', alpha=0.3)\n",
    "    axs[i].set_title(Title)\n",
    "    axs[i].tick_params(axis='both', labelsize=18)\n",
    "    axs[i].legend(fontsize=16, loc='center right')\n",
    "    axs[i].grid(axis = 'both', linestyle='--')\n",
    "    axs[i].set_xlim(det-100,det+100)\n",
    "plt.show()"
   ]
  },
  {
   "cell_type": "code",
   "execution_count": null,
   "id": "73f17e46",
   "metadata": {},
   "outputs": [],
   "source": [
    "#save dip points as csv file\n",
    "\n",
    "c1_wide.to_csv('dump/bo_new_result.csv')"
   ]
  }
 ],
 "metadata": {
  "kernelspec": {
   "display_name": "Python 3 (ipykernel)",
   "language": "python",
   "name": "python3"
  },
  "language_info": {
   "codemirror_mode": {
    "name": "ipython",
    "version": 3
   },
   "file_extension": ".py",
   "mimetype": "text/x-python",
   "name": "python",
   "nbconvert_exporter": "python",
   "pygments_lexer": "ipython3",
   "version": "3.9.7"
  }
 },
 "nbformat": 4,
 "nbformat_minor": 5
}
